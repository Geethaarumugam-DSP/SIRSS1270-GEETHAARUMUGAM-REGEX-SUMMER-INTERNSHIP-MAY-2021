{
 "cells": [
  {
   "cell_type": "markdown",
   "metadata": {},
   "source": [
    "# Summer Training/Internship Program May 2021- MACHINE LEARNING & DEEP LEARNING\n",
    "\n",
    "Registration Id: SIRSS1270\n",
    "\n",
    "Name: Geethaarumugam\n",
    "\n",
    "Assignment 3\n",
    "\n"
   ]
  },
  {
   "cell_type": "markdown",
   "metadata": {},
   "source": [
    "# Q1. Write a function to return nth term of Fibonacci sequence."
   ]
  },
  {
   "cell_type": "code",
   "execution_count": 2,
   "metadata": {},
   "outputs": [
    {
     "name": "stdout",
     "output_type": "stream",
     "text": [
      "enter value of x - 25\n",
      "nth term Fibonacci is 28657\n"
     ]
    }
   ],
   "source": [
    "def Fibonacci(x):\n",
    "    fib = 1\n",
    "    seq = 0\n",
    "    if x<= 2:\n",
    "        return 1\n",
    "    for i in range(2, x):\n",
    "        value = fib + seq\n",
    "        fib = seq\n",
    "        seq = value\n",
    "    return value\n",
    "\n",
    "num = input(\"enter value of x - \")\n",
    "print(\"nth term Fibonacci is\" , Fibonacci(int(num)))"
   ]
  },
  {
   "cell_type": "markdown",
   "metadata": {},
   "source": [
    "# Q2. Write a function to find out GCD of two numbers using EUCLID'S algorithm."
   ]
  },
  {
   "cell_type": "code",
   "execution_count": 3,
   "metadata": {},
   "outputs": [
    {
     "name": "stdout",
     "output_type": "stream",
     "text": [
      "Enter First Number:24\n",
      " Enter Second Number:56\n",
      "GCD of 24 and 56 is 56\n"
     ]
    }
   ],
   "source": [
    "def GCD(n, n1):\n",
    "    if n1 == 0:\n",
    "        return n\n",
    "    else :\n",
    "        return GCD(n1, n // n1)\n",
    "inp = int(input('Enter First Number:'))\n",
    "inp1 = int(input(\" Enter Second Number:\"))\n",
    "print(\"GCD of\", inp, \"and\", inp1, \"is\", GCD(inp, inp1))\n",
    "\n",
    "    "
   ]
  },
  {
   "cell_type": "markdown",
   "metadata": {},
   "source": [
    "# Q3. Write a function to find LCM of two number in most optimizers way.\n"
   ]
  },
  {
   "cell_type": "code",
   "execution_count": 4,
   "metadata": {},
   "outputs": [
    {
     "name": "stdout",
     "output_type": "stream",
     "text": [
      "LCM of 15 and 25 is 15.0\n"
     ]
    }
   ],
   "source": [
    "def LCM(a,b):\n",
    "    return(a / GCD(a,b))*b\n",
    "a = 15\n",
    "b = 25\n",
    "c = 40\n",
    "print('LCM of', a, 'and', b, 'is', LCM(a,b))"
   ]
  },
  {
   "cell_type": "markdown",
   "metadata": {},
   "source": [
    "# THANK YOU"
   ]
  },
  {
   "cell_type": "code",
   "execution_count": null,
   "metadata": {},
   "outputs": [],
   "source": []
  }
 ],
 "metadata": {
  "kernelspec": {
   "display_name": "Python 3",
   "language": "python",
   "name": "python3"
  }
 },
 "nbformat": 4,
 "nbformat_minor": 4
}
